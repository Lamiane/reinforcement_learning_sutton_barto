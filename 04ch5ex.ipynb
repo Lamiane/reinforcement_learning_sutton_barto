{
 "cells": [
  {
   "cell_type": "code",
   "execution_count": null,
   "metadata": {
    "collapsed": true
   },
   "outputs": [],
   "source": [
    "# Ex 4.5"
   ]
  },
  {
   "cell_type": "code",
   "execution_count": null,
   "metadata": {
    "collapsed": false
   },
   "outputs": [],
   "source": [
    "import numpy as np\n",
    "import scipy as sp"
   ]
  },
  {
   "cell_type": "code",
   "execution_count": null,
   "metadata": {
    "collapsed": true
   },
   "outputs": [],
   "source": [
    "def poisson(lam, n):\n",
    "    return (1./sp.misc.factorial(n))*(lam**n)*np.exp(-lam)"
   ]
  },
  {
   "cell_type": "code",
   "execution_count": null,
   "metadata": {
    "collapsed": true
   },
   "outputs": [],
   "source": [
    "def prob_rent(a, b):\n",
    "    # calculates probability of renting cars in A and B cars in B\n",
    "    return poisson(3, a)*poisson(4, b) # 3, 4 - w treści zadania"
   ]
  },
  {
   "cell_type": "code",
   "execution_count": null,
   "metadata": {
    "collapsed": true
   },
   "outputs": [],
   "source": [
    "def prob_return(a, b):\n",
    "    # calculates probability of returning cars in A and B cars in B\n",
    "    return poisson(3, a)*poisson(2, b) # 3, 2 - w treści zadania"
   ]
  },
  {
   "cell_type": "code",
   "execution_count": null,
   "metadata": {
    "collapsed": false
   },
   "outputs": [],
   "source": [
    "def policy_iteration_original_Jack():\n",
    "    # initialization\n",
    "    max_cars = 20  # maximal number of cars at location\n",
    "    states = [(a, b) for a in xrange(max_cars+1) for b in xrange(max_cars+1)]\n",
    "    V = np.zeros((max_cars, max_cars))   # rows - location A, cols - location B, values for states\n",
    "    A = range(-5, 6)         # location A wise, actions\n",
    "    pi = np.zeros((max_cars, max_cars))  # rows - location A, cols - location B, policy\n",
    "    theta = 0.1\n",
    "    \n",
    "    dollars_per_car_moved = 2\n",
    "    dollars_per_car_rented = 10\n",
    "    \n",
    "    while True:\n",
    "        # policy evaluation\n",
    "        delta = theta+1\n",
    "        while delta < theta:\n",
    "            delta = 0\n",
    "            for s in states:\n",
    "                v = V[s]\n",
    "                V[s] = suma ...\n",
    "                # much programming\n",
    "                greedy_action = pi[s]\n",
    "                s_after_action = (s[0]-greedy_action, s[1]+greedy_action)\n",
    "                greedy_action_cost = np.abs(greedy_action)*dollars_per_car_moved\n",
    "                rents = [(a, b) for a in range(0, s_temp[0]+1) for b in range(0, s_after_action[1]+1)] # wszystkie mozliwe wypozyczenia\n",
    "                \n",
    "                reward_state_after_rental_possibility = []\n",
    "                for single_rent in rents:\n",
    "                    reward = np.sum(single_rent)+dollars_per_car_rented-greedy_action_cost\n",
    "                    probability = prob_rent(*single_rent)\n",
    "                    s_after_renting = (s_after_action[0]-single_rent[0], s_after_action[1]-single_rent[1])\n",
    "                    reward_state_after_rental_probability.append((reward, s_after_renting, probability))\n",
    "                \n",
    "                reward_state_after_rental_probability_state_after_return_probability = []\n",
    "                for rsp in reward_state_after_rental_probability:\n",
    "                    ret, sar, p = rsp\n",
    "                    returns = [(a, b) for a in range(max_cars-sar[0]) for b in range(max_cars-sar[1])]\n",
    "                    for returned in returns:\n",
    "                        prob = prob_return(returned)\n",
    "                        state_after_return = (sar[0]+returned[0], sar[1]+returned[1])\n",
    "                        reward_state_after_rental_probability_state_after_return_probability.append((ret, sar, p, state_after_return, prob))\n",
    "                \n",
    "                # co teraz zrobic z tymi prawdopodobienstwami zeby wyszlo?\n",
    "                \n",
    "                # end much programming\n",
    "                delta = np.max(delta, np.abs(v-V[s]))\n",
    "        \n",
    "        # policy improvement\n",
    "        policy_stable = True\n",
    "        for s in states:\n",
    "            old_action = pi[s]\n",
    "            pi[s] = argmax ...\n",
    "            if old_action != pi[s]:\n",
    "                policy_stable = False\n",
    "        \n",
    "        # is policy stable?\n",
    "        if False:\n",
    "            break"
   ]
  },
  {
   "cell_type": "code",
   "execution_count": null,
   "metadata": {
    "collapsed": true
   },
   "outputs": [],
   "source": []
  }
 ],
 "metadata": {
  "anaconda-cloud": {},
  "kernelspec": {
   "display_name": "Python [conda root]",
   "language": "python",
   "name": "conda-root-py"
  },
  "language_info": {
   "codemirror_mode": {
    "name": "ipython",
    "version": 2
   },
   "file_extension": ".py",
   "mimetype": "text/x-python",
   "name": "python",
   "nbconvert_exporter": "python",
   "pygments_lexer": "ipython2",
   "version": "2.7.12"
  }
 },
 "nbformat": 4,
 "nbformat_minor": 1
}
